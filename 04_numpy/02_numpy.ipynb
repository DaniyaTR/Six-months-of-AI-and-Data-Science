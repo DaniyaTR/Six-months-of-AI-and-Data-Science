{
 "cells": [
  {
   "cell_type": "markdown",
   "id": "4ae5015e",
   "metadata": {},
   "source": [
    "## Numpy Part 2"
   ]
  },
  {
   "cell_type": "code",
   "execution_count": null,
   "id": "879f07ce",
   "metadata": {},
   "outputs": [],
   "source": [
    "import numpy as np"
   ]
  },
  {
   "cell_type": "code",
   "execution_count": 2,
   "id": "e6c91c7d",
   "metadata": {},
   "outputs": [
    {
     "data": {
      "text/plain": [
       "array([[9.01932119e-312, 2.47032823e-322, 0.00000000e+000,\n",
       "        0.00000000e+000],\n",
       "       [0.00000000e+000, 1.61590357e+184, 7.42383352e-091,\n",
       "        1.48575042e-076],\n",
       "       [3.63325437e+174, 1.25828428e-075, 3.99910963e+252,\n",
       "        2.34403561e-056]])"
      ]
     },
     "execution_count": 2,
     "metadata": {},
     "output_type": "execute_result"
    }
   ],
   "source": [
    "empty=np.empty((3,4))\n",
    "empty"
   ]
  },
  {
   "cell_type": "code",
   "execution_count": 7,
   "id": "660d5396",
   "metadata": {},
   "outputs": [
    {
     "data": {
      "text/plain": [
       "array([ 0,  1,  2,  3,  4,  5,  6,  7,  8,  9, 10, 11, 12, 13, 14, 15, 16,\n",
       "       17, 18, 19, 20, 21, 22, 23, 24, 25, 26, 27, 28, 29, 30, 31, 32, 33,\n",
       "       34, 35, 36, 37, 38, 39, 40, 41, 42, 43, 44, 45, 46, 47, 48, 49, 50,\n",
       "       51, 52, 53, 54, 55, 56, 57, 58, 59, 60, 61, 62, 63, 64, 65, 66, 67,\n",
       "       68, 69, 70, 71, 72, 73, 74, 75, 76, 77, 78, 79, 80, 81, 82, 83, 84,\n",
       "       85, 86, 87, 88, 89, 90, 91, 92, 93, 94, 95, 96, 97, 98, 99])"
      ]
     },
     "execution_count": 7,
     "metadata": {},
     "output_type": "execute_result"
    }
   ],
   "source": [
    "x=np.arange(100)\n",
    "x"
   ]
  },
  {
   "cell_type": "markdown",
   "id": "9f5f2cb3",
   "metadata": {},
   "source": [
    "## How to find the array of even numbers through range"
   ]
  },
  {
   "cell_type": "code",
   "execution_count": 8,
   "id": "2193a3c3",
   "metadata": {},
   "outputs": [
    {
     "data": {
      "text/plain": [
       "array([ 0,  2,  4,  6,  8, 10, 12, 14, 16, 18, 20, 22, 24, 26, 28, 30, 32,\n",
       "       34, 36, 38, 40, 42, 44, 46, 48, 50, 52, 54, 56, 58, 60, 62, 64, 66,\n",
       "       68, 70, 72, 74, 76, 78, 80, 82, 84, 86, 88, 90, 92, 94, 96, 98])"
      ]
     },
     "execution_count": 8,
     "metadata": {},
     "output_type": "execute_result"
    }
   ],
   "source": [
    "even=np.arange(0,100,2)\n",
    "even"
   ]
  },
  {
   "cell_type": "code",
   "execution_count": 9,
   "id": "b8d8196a",
   "metadata": {},
   "outputs": [
    {
     "data": {
      "text/plain": [
       "array([ 0,  3,  6,  9, 12, 15, 18, 21, 24, 27, 30, 33, 36, 39, 42, 45, 48,\n",
       "       51, 54, 57, 60, 63, 66, 69, 72, 75, 78, 81, 84, 87, 90, 93, 96, 99])"
      ]
     },
     "execution_count": 9,
     "metadata": {},
     "output_type": "execute_result"
    }
   ],
   "source": [
    "odd=np.arange(0,100,3)\n",
    "odd"
   ]
  },
  {
   "cell_type": "code",
   "execution_count": 11,
   "id": "b0faaeab",
   "metadata": {},
   "outputs": [
    {
     "data": {
      "text/plain": [
       "array([ 1,  6, 11, 16, 21, 26, 31, 36, 41, 46, 51, 56, 61, 66, 71, 76, 81,\n",
       "       86, 91, 96])"
      ]
     },
     "execution_count": 11,
     "metadata": {},
     "output_type": "execute_result"
    }
   ],
   "source": [
    "# speicifc difference between numbers\n",
    "diff=np.arange(1,100,5) # it makes a range from 1 to 100 with a difference of 5\n",
    "diff"
   ]
  },
  {
   "cell_type": "code",
   "execution_count": null,
   "id": "8e5d4d34",
   "metadata": {},
   "outputs": [
    {
     "data": {
      "text/plain": [
       "array([ 0.        ,  2.22222222,  4.44444444,  6.66666667,  8.88888889,\n",
       "       11.11111111, 13.33333333, 15.55555556, 17.77777778, 20.        ])"
      ]
     },
     "execution_count": 15,
     "metadata": {},
     "output_type": "execute_result"
    }
   ],
   "source": [
    "# we can use np.linspace() to create an array with values that are spaced linearly in a specified interval\n",
    "linspace=np.linspace(0,20, num=10)\n",
    "linspace"
   ]
  },
  {
   "cell_type": "code",
   "execution_count": 17,
   "id": "09c10b7d",
   "metadata": {},
   "outputs": [
    {
     "data": {
      "text/plain": [
       "array([1., 1.])"
      ]
     },
     "execution_count": 17,
     "metadata": {},
     "output_type": "execute_result"
    }
   ],
   "source": [
    "# define the dtype of the array\n",
    "x=np.ones(2, dtype=np.float64)\n",
    "x"
   ]
  },
  {
   "cell_type": "markdown",
   "id": "95720b8b",
   "metadata": {},
   "source": [
    "---"
   ]
  },
  {
   "cell_type": "markdown",
   "id": "d7ac4db9",
   "metadata": {},
   "source": [
    "## Sorting an array"
   ]
  },
  {
   "cell_type": "code",
   "execution_count": 20,
   "metadata": {},
   "outputs": [
    {
     "data": {
      "text/plain": [
       "array([3, 9, 5, 8, 5, 2])"
      ]
     },
     "execution_count": 20,
     "metadata": {},
     "output_type": "execute_result"
    }
   ],
   "source": [
    "arr = np.array([3, 9, 5, 8, 5, 2])\n",
    "arr"
   ]
  },
  {
   "cell_type": "code",
   "execution_count": null,
   "metadata": {},
   "outputs": [
    {
     "data": {
      "text/plain": [
       "array([2, 3, 5, 5, 8, 9])"
      ]
     },
     "execution_count": 21,
     "metadata": {},
     "output_type": "execute_result"
    }
   ],
   "source": [
    "#\n",
    "np.sort(arr)"
   ]
  },
  {
   "cell_type": "markdown",
   "id": "1de41a88",
   "metadata": {},
   "source": [
    "## How to add/join two arrays?"
   ]
  },
  {
   "cell_type": "markdown",
   "id": "55501aa5",
   "metadata": {},
   "source": [
    " Concatenate function add/ join two arrays"
   ]
  },
  {
   "cell_type": "code",
   "execution_count": 23,
   "id": "23d7f68b",
   "metadata": {},
   "outputs": [
    {
     "data": {
      "text/plain": [
       "array([ 1,  2,  3,  4,  5,  6,  7,  8,  9, 10])"
      ]
     },
     "execution_count": 23,
     "metadata": {},
     "output_type": "execute_result"
    }
   ],
   "source": [
    " a = np.array([1, 2, 3, 4, 5])\n",
    " b = np.array([6, 7, 8, 9, 10])\n",
    " np.concatenate((a, b))"
   ]
  },
  {
   "cell_type": "markdown",
   "id": "30f94ed2",
   "metadata": {},
   "source": [
    "## Concatenate 2D arrays"
   ]
  },
  {
   "cell_type": "code",
   "execution_count": 33,
   "metadata": {},
   "outputs": [
    {
     "name": "stdout",
     "output_type": "stream",
     "text": [
      "[[1 2]\n",
      " [3 4]\n",
      " [5 6]]\n"
     ]
    }
   ],
   "source": [
    "a = np.array([[1, 2]])         # 1 by 2\n",
    "b = np.array([[3, 4],[5, 6]])  # 2 by 2\n",
    "\n",
    "# Concatenate 2D array\n",
    "c = np.concatenate((a, b), axis=0)\n",
    "print(c)\n"
   ]
  },
  {
   "cell_type": "markdown",
   "id": "f587b946",
   "metadata": {},
   "source": [
    "## Create a 3D array"
   ]
  },
  {
   "cell_type": "code",
   "execution_count": 34,
   "id": "69de80f9",
   "metadata": {},
   "outputs": [
    {
     "data": {
      "text/plain": [
       "array([[[1, 2],\n",
       "        [3, 4]],\n",
       "\n",
       "       [[5, 6],\n",
       "        [7, 8]]])"
      ]
     },
     "execution_count": 34,
     "metadata": {},
     "output_type": "execute_result"
    }
   ],
   "source": [
    "# create a 3D array\n",
    "d = np.array([[[1, 2], [3, 4]], [[5, 6], [7, 8]]])\n",
    "d"
   ]
  },
  {
   "cell_type": "code",
   "execution_count": 35,
   "metadata": {},
   "outputs": [
    {
     "data": {
      "text/plain": [
       "2"
      ]
     },
     "execution_count": 35,
     "metadata": {},
     "output_type": "execute_result"
    }
   ],
   "source": [
    "len(d)"
   ]
  },
  {
   "cell_type": "code",
   "execution_count": 36,
   "id": "6aa8a346",
   "metadata": {},
   "outputs": [
    {
     "data": {
      "text/plain": [
       "8"
      ]
     },
     "execution_count": 36,
     "metadata": {},
     "output_type": "execute_result"
    }
   ],
   "source": [
    "d.size"
   ]
  },
  {
   "cell_type": "code",
   "execution_count": 37,
   "id": "f3d20994",
   "metadata": {},
   "outputs": [
    {
     "data": {
      "text/plain": [
       "dtype('int64')"
      ]
     },
     "execution_count": 37,
     "metadata": {},
     "output_type": "execute_result"
    }
   ],
   "source": [
    "d.dtype"
   ]
  },
  {
   "cell_type": "code",
   "execution_count": 42,
   "id": "2e0ddbca",
   "metadata": {},
   "outputs": [
    {
     "data": {
      "text/plain": [
       "(2, 2, 2)"
      ]
     },
     "execution_count": 42,
     "metadata": {},
     "output_type": "execute_result"
    }
   ],
   "source": [
    "d.reshape(4, 2)\n",
    "d.shape"
   ]
  },
  {
   "cell_type": "code",
   "execution_count": 43,
   "id": "ac6e60f7",
   "metadata": {},
   "outputs": [
    {
     "data": {
      "text/plain": [
       "array([[[1, 2],\n",
       "        [3, 4]],\n",
       "\n",
       "       [[5, 6],\n",
       "        [7, 8]]])"
      ]
     },
     "execution_count": 43,
     "metadata": {},
     "output_type": "execute_result"
    }
   ],
   "source": [
    "d"
   ]
  },
  {
   "cell_type": "markdown",
   "id": "38055d09",
   "metadata": {},
   "source": [
    "## Convert 1D into 2D array"
   ]
  },
  {
   "cell_type": "code",
   "execution_count": 4,
   "id": "1ac34baa",
   "metadata": {},
   "outputs": [
    {
     "name": "stdout",
     "output_type": "stream",
     "text": [
      "(8,)\n"
     ]
    }
   ],
   "source": [
    "import numpy as np  # import numpy first\n",
    "\n",
    "# first make a 1D array\n",
    "a = np.array([1, 2, 3, 4, 5, 6, 7, 8])\n",
    "print(a.shape)\n"
   ]
  },
  {
   "cell_type": "markdown",
   "id": "760ff506",
   "metadata": {},
   "source": [
    "this (8,) show that 8 elements in one row"
   ]
  },
  {
   "cell_type": "code",
   "execution_count": 6,
   "metadata": {},
   "outputs": [
    {
     "data": {
      "text/plain": [
       "(1, 8)"
      ]
     },
     "execution_count": 6,
     "metadata": {},
     "output_type": "execute_result"
    }
   ],
   "source": [
    "# then convert that into 2D array\n",
    "a[np.newaxis, :].shape"
   ]
  },
  {
   "cell_type": "markdown",
   "id": "e853322d",
   "metadata": {},
   "source": [
    "this (8,1) shows that 1 rows and 8 columns"
   ]
  },
  {
   "cell_type": "markdown",
   "id": "ec6facf2",
   "metadata": {},
   "source": [
    "## Convert 2D into 3D array"
   ]
  },
  {
   "cell_type": "code",
   "execution_count": null,
   "metadata": {},
   "outputs": [
    {
     "data": {
      "text/plain": [
       "(1, 1, 8)"
      ]
     },
     "execution_count": 9,
     "metadata": {},
     "output_type": "execute_result"
    }
   ],
   "source": [
    "# just add a new axis at the end of 2D array  \n",
    "a[np.newaxis, np.newaxis, :].shape"
   ]
  },
  {
   "cell_type": "markdown",
   "id": "144bba0b",
   "metadata": {},
   "source": [
    "## Indexing and slicing\n"
   ]
  },
  {
   "cell_type": "code",
   "execution_count": 13,
   "id": "05aa0d3e",
   "metadata": {},
   "outputs": [
    {
     "data": {
      "text/plain": [
       "3"
      ]
     },
     "execution_count": 13,
     "metadata": {},
     "output_type": "execute_result"
    }
   ],
   "source": [
    "a = [1, 2, 3, 4, 5, 6, 7, 8]\n",
    "a[2]\n"
   ]
  },
  {
   "cell_type": "code",
   "execution_count": 14,
   "id": "03dac62d",
   "metadata": {},
   "outputs": [
    {
     "name": "stdout",
     "output_type": "stream",
     "text": [
      "[[ 10  20  30  40]\n",
      " [ 50  60  70  80]\n",
      " [ 90 100 110 120]]\n"
     ]
    }
   ],
   "source": [
    "import numpy as np\n",
    "\n",
    "a = np.array([\n",
    "    [10, 20, 30, 40],\n",
    "    [50, 60, 70, 80],\n",
    "    [90, 100, 110, 120]\n",
    "])\n",
    "print(a)\n"
   ]
  },
  {
   "cell_type": "markdown",
   "id": "11a19022",
   "metadata": {},
   "source": [
    "## 1D Array Slicing"
   ]
  },
  {
   "cell_type": "code",
   "execution_count": 15,
   "id": "60b00254",
   "metadata": {},
   "outputs": [
    {
     "data": {
      "text/plain": [
       "array([50, 60, 70, 80])"
      ]
     },
     "execution_count": 15,
     "metadata": {},
     "output_type": "execute_result"
    }
   ],
   "source": [
    "import numpy as np\n",
    "a = np.array([10, 20, 30, 40, 50, 60, 70, 80])\n",
    "a[2:6]     # [30 40 50 60]\n",
    "a[:4]      # [10 20 30 40]\n",
    "a[4:]      # [50 60 70 80]\n"
   ]
  },
  {
   "cell_type": "markdown",
   "id": "d0eb34b3",
   "metadata": {},
   "source": [
    "## Reverse slicing"
   ]
  },
  {
   "cell_type": "code",
   "execution_count": 16,
   "id": "6e167e1c",
   "metadata": {},
   "outputs": [
    {
     "data": {
      "text/plain": [
       "array([40, 50, 60, 70])"
      ]
     },
     "execution_count": 16,
     "metadata": {},
     "output_type": "execute_result"
    }
   ],
   "source": [
    "a[::-1]     # reverse the array → [80 70 60 50 40 30 20 10]\n",
    "a[-5:-1]    # from 4th last to 2nd last → [40 50 60 70]\n"
   ]
  },
  {
   "cell_type": "markdown",
   "id": "05ee945b",
   "metadata": {},
   "source": [
    "## 2D Array Slicing"
   ]
  },
  {
   "cell_type": "code",
   "execution_count": 18,
   "id": "8739a07c",
   "metadata": {},
   "outputs": [
    {
     "data": {
      "text/plain": [
       "array([[ 6,  7],\n",
       "       [10, 11]])"
      ]
     },
     "execution_count": 18,
     "metadata": {},
     "output_type": "execute_result"
    }
   ],
   "source": [
    "b = np.array([\n",
    "    [ 1,  2,  3,  4],\n",
    "    [ 5,  6,  7,  8],\n",
    "    [ 9, 10, 11, 12],\n",
    "    [13, 14, 15, 16]\n",
    "])\n",
    "b[1:3, 1:3]   # get a sub-array from rows 1-2 and columns 1-2\n"
   ]
  },
  {
   "cell_type": "markdown",
   "id": "b32363b7",
   "metadata": {},
   "source": [
    "## 3D Array Slicing"
   ]
  },
  {
   "cell_type": "code",
   "execution_count": 20,
   "id": "9f20c4c5",
   "metadata": {},
   "outputs": [
    {
     "data": {
      "text/plain": [
       "array([[ 8,  9],\n",
       "       [11, 12]])"
      ]
     },
     "execution_count": 20,
     "metadata": {},
     "output_type": "execute_result"
    }
   ],
   "source": [
    "c = np.array([\n",
    "    [[1,  2,  3],\n",
    "     [4,  5,  6]],\n",
    "\n",
    "    [[7,  8,  9],\n",
    "     [10, 11, 12]]\n",
    "])\n",
    "c[1, :, 1:]   # from 2nd block, get all rows and columns from index 1 onward\n"
   ]
  },
  {
   "cell_type": "markdown",
   "id": "cff73589",
   "metadata": {},
   "source": [
    "## Filter even numbers"
   ]
  },
  {
   "cell_type": "code",
   "execution_count": 21,
   "id": "85230995",
   "metadata": {},
   "outputs": [
    {
     "data": {
      "text/plain": [
       "array([ 2,  4,  6,  8, 10, 12, 14, 16])"
      ]
     },
     "execution_count": 21,
     "metadata": {},
     "output_type": "execute_result"
    }
   ],
   "source": [
    "b[b % 2 == 0] "
   ]
  }
 ],
 "metadata": {
  "kernelspec": {
   "display_name": "python_eda",
   "language": "python",
   "name": "python3"
  },
  "language_info": {
   "codemirror_mode": {
    "name": "ipython",
    "version": 3
   },
   "file_extension": ".py",
   "mimetype": "text/x-python",
   "name": "python",
   "nbconvert_exporter": "python",
   "pygments_lexer": "ipython3",
   "version": "3.13.7"
  }
 },
 "nbformat": 4,
 "nbformat_minor": 5
}
