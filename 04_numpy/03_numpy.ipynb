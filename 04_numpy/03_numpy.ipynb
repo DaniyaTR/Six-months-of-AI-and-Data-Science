{
 "cells": [
  {
   "cell_type": "markdown",
   "id": "2e87ee95",
   "metadata": {},
   "source": [
    "## Numpy Indexing and Slicing"
   ]
  },
  {
   "cell_type": "code",
   "execution_count": 1,
   "id": "923730b2",
   "metadata": {},
   "outputs": [],
   "source": [
    "import numpy as np"
   ]
  },
  {
   "cell_type": "code",
   "execution_count": 2,
   "id": "8ab2416e",
   "metadata": {},
   "outputs": [
    {
     "data": {
      "text/plain": [
       "array([20, 30, 40, 50, 60, 70, 80, 10])"
      ]
     },
     "execution_count": 2,
     "metadata": {},
     "output_type": "execute_result"
    }
   ],
   "source": [
    "a = np.array([20, 30, 40, 50, 60, 70, 80, 10])\n",
    "a"
   ]
  },
  {
   "cell_type": "code",
   "execution_count": 5,
   "id": "a81a91a2",
   "metadata": {},
   "outputs": [
    {
     "data": {
      "text/plain": [
       "array([10, 20, 30, 40, 50, 60, 70, 80])"
      ]
     },
     "execution_count": 5,
     "metadata": {},
     "output_type": "execute_result"
    }
   ],
   "source": [
    "# this below function prints the number from 10 to 90 with the differenece of 10\n",
    "b=np.arange(10, 90, 10)\n",
    "b"
   ]
  },
  {
   "cell_type": "code",
   "execution_count": null,
   "id": "c9bfde06",
   "metadata": {},
   "outputs": [
    {
     "data": {
      "text/plain": [
       "array([[10, 20, 30, 40],\n",
       "       [50, 60, 70, 80]])"
      ]
     },
     "execution_count": 6,
     "metadata": {},
     "output_type": "execute_result"
    }
   ],
   "source": [
    "## this function reshapes my 1D array b into 2 rows and 4 columns\n",
    "c= b.reshape(2,4)\n",
    "c"
   ]
  },
  {
   "cell_type": "code",
   "execution_count": null,
   "id": "f6727c94",
   "metadata": {},
   "outputs": [
    {
     "data": {
      "text/plain": [
       "array([50, 60, 70, 80])"
      ]
     },
     "execution_count": 7,
     "metadata": {},
     "output_type": "execute_result"
    }
   ],
   "source": [
    "## now my 1D ray converts into 2D array (1st row become 1st index(means 0) and 2nd row becomes 2nd index (means 1) )\n",
    "c[1]"
   ]
  },
  {
   "cell_type": "code",
   "execution_count": 8,
   "id": "66724256",
   "metadata": {},
   "outputs": [
    {
     "data": {
      "text/plain": [
       "array([10, 20, 30, 40, 50, 60])"
      ]
     },
     "execution_count": 8,
     "metadata": {},
     "output_type": "execute_result"
    }
   ],
   "source": [
    "c[c < 70]"
   ]
  },
  {
   "cell_type": "markdown",
   "id": "263b268e",
   "metadata": {},
   "source": [
    "## Enlist boolean operators conditional operators?"
   ]
  },
  {
   "cell_type": "markdown",
   "id": "c8b68dfd",
   "metadata": {},
   "source": [
    "# Making an array from Data or another array"
   ]
  },
  {
   "cell_type": "code",
   "execution_count": 9,
   "id": "d3a7e0b6",
   "metadata": {},
   "outputs": [
    {
     "data": {
      "text/plain": [
       "array([  0,   5,  10,  15,  20,  25,  30,  35,  40,  45,  50,  55,  60,\n",
       "        65,  70,  75,  80,  85,  90,  95, 100, 105, 110, 115, 120, 125,\n",
       "       130, 135, 140, 145, 150, 155, 160, 165, 170, 175, 180, 185, 190,\n",
       "       195, 200, 205, 210, 215, 220])"
      ]
     },
     "execution_count": 9,
     "metadata": {},
     "output_type": "execute_result"
    }
   ],
   "source": [
    "a = np.arange(0,222,5)\n",
    "a"
   ]
  },
  {
   "cell_type": "code",
   "execution_count": 13,
   "id": "39d6e71c",
   "metadata": {},
   "outputs": [
    {
     "data": {
      "text/plain": [
       "array([200, 205, 210, 215, 220])"
      ]
     },
     "execution_count": 13,
     "metadata": {},
     "output_type": "execute_result"
    }
   ],
   "source": [
    "array1=a[40:45]\n",
    "array1"
   ]
  },
  {
   "cell_type": "markdown",
   "id": "551d50c3",
   "metadata": {},
   "source": [
    "# Vertical Stack"
   ]
  },
  {
   "cell_type": "code",
   "execution_count": 15,
   "id": "59182fad",
   "metadata": {},
   "outputs": [
    {
     "data": {
      "text/plain": [
       "array([[ 1,  2,  3,  4,  5,  6],\n",
       "       [ 7,  8,  9, 10, 11, 12]])"
      ]
     },
     "execution_count": 15,
     "metadata": {},
     "output_type": "execute_result"
    }
   ],
   "source": [
    "a= np.array([[1,2,3,4,5,6]])\n",
    "b=np.array([[7,8,9,10,11,12]])\n",
    "c= np.vstack((a,b))\n",
    "c"
   ]
  },
  {
   "cell_type": "markdown",
   "id": "768e16ca",
   "metadata": {},
   "source": [
    "## Horizontol Stack"
   ]
  },
  {
   "cell_type": "code",
   "execution_count": 16,
   "id": "69e491c6",
   "metadata": {},
   "outputs": [
    {
     "data": {
      "text/plain": [
       "array([[ 1,  2,  3,  4,  5,  6,  7,  8,  9, 10, 11, 12]])"
      ]
     },
     "execution_count": 16,
     "metadata": {},
     "output_type": "execute_result"
    }
   ],
   "source": [
    "a= np.array([[1,2,3,4,5,6]])\n",
    "b=np.array([[7,8,9,10,11,12]])\n",
    "c= np.hstack((a,b))\n",
    "c"
   ]
  },
  {
   "cell_type": "markdown",
   "id": "a10c1bc2",
   "metadata": {},
   "source": [
    "---"
   ]
  },
  {
   "cell_type": "markdown",
   "id": "f1e98029",
   "metadata": {},
   "source": [
    "## Matrix or Matrices"
   ]
  },
  {
   "cell_type": "code",
   "execution_count": 17,
   "id": "f4bc0a1c",
   "metadata": {},
   "outputs": [
    {
     "data": {
      "text/plain": [
       "array([[1, 2, 3],\n",
       "       [4, 5, 6]])"
      ]
     },
     "execution_count": 17,
     "metadata": {},
     "output_type": "execute_result"
    }
   ],
   "source": [
    "a= np.array([[1,2,3],[4,5,6]])\n",
    "a"
   ]
  },
  {
   "cell_type": "markdown",
   "id": "48e582ca",
   "metadata": {},
   "source": [
    "Array is totally differ from matrix , arrays have number of rows and columns\n",
    "\n",
    "An array can have many dimensions, while a matrix is always a 2D array used for mathematical operations.\n",
    "\n",
    "Arrays can be reshaped into any number of dimensions, while matrices can be reshaped only within 2D (rows × columns)."
   ]
  },
  {
   "cell_type": "code",
   "execution_count": null,
   "metadata": {},
   "outputs": [
    {
     "data": {
      "text/plain": [
       "array([ 0,  2,  4,  6,  8, 10, 12, 14, 16, 18, 20, 22, 24, 26, 28, 30, 32,\n",
       "       34, 36, 38, 40, 42, 44, 46, 48, 50, 52, 54, 56, 58, 60, 62, 64, 66,\n",
       "       68, 70, 72, 74, 76, 78, 80, 82, 84, 86, 88, 90, 92, 94, 96, 98])"
      ]
     },
     "execution_count": 19,
     "metadata": {},
     "output_type": "execute_result"
    }
   ],
   "source": [
    "# Create a matrix of big dimension\n",
    "b=np.arange(0,100,2)\n",
    "b"
   ]
  },
  {
   "cell_type": "markdown",
   "id": "525cd9c3",
   "metadata": {},
   "source": [
    "Now this above is array , not a matxix\n",
    "\n",
    "Convert array into matrix\n"
   ]
  },
  {
   "cell_type": "code",
   "execution_count": 21,
   "id": "d87b4f0d",
   "metadata": {},
   "outputs": [
    {
     "data": {
      "text/plain": [
       "array([[ 0,  2,  4,  6,  8],\n",
       "       [10, 12, 14, 16, 18],\n",
       "       [20, 22, 24, 26, 28],\n",
       "       [30, 32, 34, 36, 38],\n",
       "       [40, 42, 44, 46, 48],\n",
       "       [50, 52, 54, 56, 58],\n",
       "       [60, 62, 64, 66, 68],\n",
       "       [70, 72, 74, 76, 78],\n",
       "       [80, 82, 84, 86, 88],\n",
       "       [90, 92, 94, 96, 98]])"
      ]
     },
     "execution_count": 21,
     "metadata": {},
     "output_type": "execute_result"
    }
   ],
   "source": [
    "## this way of reshaping converts array into matrix\n",
    "b=np.arange(0,100,2).reshape(10,5)\n",
    "b"
   ]
  },
  {
   "cell_type": "markdown",
   "id": "c223da20",
   "metadata": {},
   "source": [
    "# Slicing a matrix"
   ]
  },
  {
   "cell_type": "markdown",
   "id": "ebb7bfd3",
   "metadata": {},
   "source": [
    "Matrix slicing means cutting out a part of the matrix by choosing certain rows and columns."
   ]
  },
  {
   "cell_type": "code",
   "execution_count": null,
   "id": "4b15c664",
   "metadata": {},
   "outputs": [
    {
     "data": {
      "text/plain": [
       "array([[34, 36],\n",
       "       [44, 46],\n",
       "       [54, 56],\n",
       "       [64, 66]])"
      ]
     },
     "execution_count": 22,
     "metadata": {},
     "output_type": "execute_result"
    }
   ],
   "source": [
    "# This 3;7 means rows from index 3 to 6 and 2:4 means columns from index 2 to 3\n",
    "b[3:7, 2:4]"
   ]
  },
  {
   "cell_type": "code",
   "execution_count": 23,
   "id": "3e64bd1d",
   "metadata": {},
   "outputs": [
    {
     "data": {
      "text/plain": [
       "array([[22, 24, 26],\n",
       "       [32, 34, 36],\n",
       "       [42, 44, 46]])"
      ]
     },
     "execution_count": 23,
     "metadata": {},
     "output_type": "execute_result"
    }
   ],
   "source": [
    "b[2:5,1:4]"
   ]
  },
  {
   "cell_type": "code",
   "execution_count": 24,
   "id": "33c0d58d",
   "metadata": {},
   "outputs": [
    {
     "data": {
      "text/plain": [
       "array([[10, 12, 14],\n",
       "       [20, 22, 24],\n",
       "       [30, 32, 34]])"
      ]
     },
     "execution_count": 24,
     "metadata": {},
     "output_type": "execute_result"
    }
   ],
   "source": [
    "b[1:4,0:3]"
   ]
  },
  {
   "cell_type": "code",
   "execution_count": 25,
   "id": "b0910387",
   "metadata": {},
   "outputs": [
    {
     "data": {
      "text/plain": [
       "np.int64(0)"
      ]
     },
     "execution_count": 25,
     "metadata": {},
     "output_type": "execute_result"
    }
   ],
   "source": [
    "b.min()"
   ]
  },
  {
   "cell_type": "code",
   "execution_count": 26,
   "id": "8703e51e",
   "metadata": {},
   "outputs": [
    {
     "data": {
      "text/plain": [
       "np.int64(2450)"
      ]
     },
     "execution_count": 26,
     "metadata": {},
     "output_type": "execute_result"
    }
   ],
   "source": [
    "b.sum()"
   ]
  },
  {
   "cell_type": "markdown",
   "id": "b3bfe1bc",
   "metadata": {},
   "source": [
    "# Add one matrix with another"
   ]
  },
  {
   "cell_type": "code",
   "execution_count": null,
   "id": "93fdee1b",
   "metadata": {},
   "outputs": [
    {
     "data": {
      "text/plain": [
       "array([[ 1,  2,  3,  4,  5,  6,  7,  8,  9, 10],\n",
       "       [11, 12, 13, 14, 15, 16, 17, 18, 19, 20],\n",
       "       [21, 22, 23, 24, 25, 26, 27, 28, 29, 30],\n",
       "       [31, 32, 33, 34, 35, 36, 37, 38, 39, 40],\n",
       "       [41, 42, 43, 44, 45, 46, 47, 48, 49, 50]])"
      ]
     },
     "execution_count": 29,
     "metadata": {},
     "output_type": "execute_result"
    }
   ],
   "source": [
    "# First we make simple matrix\n",
    "n=np.arange(1,51).reshape(5,10)\n",
    "n\n",
    "# Add one matrix with another\n",
    "n+np.arange(51,101).reshape(5,10)"
   ]
  },
  {
   "cell_type": "markdown",
   "id": "1eb0125c",
   "metadata": {},
   "source": [
    "First make a simple matrix , then which type of matrix(menas of our own choice rows and columns) we want to make , just write like this \n",
    "\n",
    "n+np.arange(51,101).reshape(5,10) \n",
    "\n",
    "This adds 51 or 101 to every row and column"
   ]
  },
  {
   "cell_type": "code",
   "execution_count": 30,
   "id": "d210f811",
   "metadata": {},
   "outputs": [
    {
     "data": {
      "text/plain": [
       "array([[ 52,  54,  56,  58,  60,  62,  64,  66,  68,  70],\n",
       "       [ 72,  74,  76,  78,  80,  82,  84,  86,  88,  90],\n",
       "       [ 92,  94,  96,  98, 100, 102, 104, 106, 108, 110],\n",
       "       [112, 114, 116, 118, 120, 122, 124, 126, 128, 130],\n",
       "       [132, 134, 136, 138, 140, 142, 144, 146, 148, 150]])"
      ]
     },
     "execution_count": 30,
     "metadata": {},
     "output_type": "execute_result"
    }
   ],
   "source": [
    "# Add one matrix with another\n",
    "n+np.arange(51,101).reshape(5,10)"
   ]
  },
  {
   "cell_type": "markdown",
   "id": "541ab1d1",
   "metadata": {},
   "source": [
    "## Reversing a matrix"
   ]
  },
  {
   "cell_type": "code",
   "execution_count": 31,
   "id": "35cd2c73",
   "metadata": {},
   "outputs": [
    {
     "data": {
      "text/plain": [
       "array([[ 0,  2,  4,  6,  8],\n",
       "       [10, 12, 14, 16, 18],\n",
       "       [20, 22, 24, 26, 28],\n",
       "       [30, 32, 34, 36, 38],\n",
       "       [40, 42, 44, 46, 48],\n",
       "       [50, 52, 54, 56, 58],\n",
       "       [60, 62, 64, 66, 68],\n",
       "       [70, 72, 74, 76, 78],\n",
       "       [80, 82, 84, 86, 88],\n",
       "       [90, 92, 94, 96, 98]])"
      ]
     },
     "execution_count": 31,
     "metadata": {},
     "output_type": "execute_result"
    }
   ],
   "source": [
    "b"
   ]
  },
  {
   "cell_type": "markdown",
   "id": "6c999cff",
   "metadata": {},
   "source": [
    "just use this function \n",
    "\n",
    "np.flip(b) \n",
    "\n",
    "this will reverse all the matrix"
   ]
  },
  {
   "cell_type": "code",
   "execution_count": 32,
   "id": "a66169c8",
   "metadata": {},
   "outputs": [
    {
     "data": {
      "text/plain": [
       "array([[98, 96, 94, 92, 90],\n",
       "       [88, 86, 84, 82, 80],\n",
       "       [78, 76, 74, 72, 70],\n",
       "       [68, 66, 64, 62, 60],\n",
       "       [58, 56, 54, 52, 50],\n",
       "       [48, 46, 44, 42, 40],\n",
       "       [38, 36, 34, 32, 30],\n",
       "       [28, 26, 24, 22, 20],\n",
       "       [18, 16, 14, 12, 10],\n",
       "       [ 8,  6,  4,  2,  0]])"
      ]
     },
     "execution_count": 32,
     "metadata": {},
     "output_type": "execute_result"
    }
   ],
   "source": [
    "np.flip(b)"
   ]
  },
  {
   "cell_type": "code",
   "execution_count": null,
   "id": "85364a17",
   "metadata": {},
   "outputs": [],
   "source": []
  }
 ],
 "metadata": {
  "kernelspec": {
   "display_name": "python_eda",
   "language": "python",
   "name": "python3"
  },
  "language_info": {
   "codemirror_mode": {
    "name": "ipython",
    "version": 3
   },
   "file_extension": ".py",
   "mimetype": "text/x-python",
   "name": "python",
   "nbconvert_exporter": "python",
   "pygments_lexer": "ipython3",
   "version": "3.13.7"
  }
 },
 "nbformat": 4,
 "nbformat_minor": 5
}
