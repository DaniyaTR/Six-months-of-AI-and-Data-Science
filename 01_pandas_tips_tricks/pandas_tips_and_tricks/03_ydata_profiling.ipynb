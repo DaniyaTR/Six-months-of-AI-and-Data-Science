{
 "cells": [
  {
   "cell_type": "markdown",
   "id": "d88f46c3",
   "metadata": {},
   "source": [
    "Automatic EDA ydata_profiling"
   ]
  },
  {
   "cell_type": "code",
   "execution_count": 2,
   "id": "da85f145",
   "metadata": {},
   "outputs": [
    {
     "name": "stderr",
     "output_type": "stream",
     "text": [
      "c:\\Users\\Abdullah\\anaconda3\\envs\\ydata_profiling\\lib\\site-packages\\tqdm\\auto.py:21: TqdmWarning: IProgress not found. Please update jupyter and ipywidgets. See https://ipywidgets.readthedocs.io/en/stable/user_install.html\n",
      "  from .autonotebook import tqdm as notebook_tqdm\n"
     ]
    },
    {
     "data": {
      "text/html": [
       "\n",
       "            <div>\n",
       "                <ins><a href=\"https://ydata.ai/register\">Upgrade to ydata-sdk</a></ins>\n",
       "                <p>\n",
       "                    Improve your data and profiling with ydata-sdk, featuring data quality scoring, redundancy detection, outlier identification, text validation, and synthetic data generation.\n",
       "                </p>\n",
       "            </div>\n",
       "            "
      ],
      "text/plain": [
       "<IPython.core.display.HTML object>"
      ]
     },
     "metadata": {},
     "output_type": "display_data"
    }
   ],
   "source": [
    "# Import Libraries\n",
    "import pandas as pd\n",
    "import seaborn as sns\n",
    "import ydata_profiling as yp"
   ]
  },
  {
   "cell_type": "code",
   "execution_count": 3,
   "id": "02a9280a",
   "metadata": {},
   "outputs": [],
   "source": [
    "# Import Dataset from seaborn\n",
    "df=sns.load_dataset('titanic')"
   ]
  },
  {
   "cell_type": "code",
   "execution_count": 6,
   "id": "279829ce",
   "metadata": {},
   "outputs": [
    {
     "name": "stderr",
     "output_type": "stream",
     "text": [
      "100%|██████████| 15/15 [00:00<00:00, 27.20it/s]0<00:00, 18.29it/s, Describe variable: alone]     \n",
      "Summarize dataset: 100%|██████████| 41/41 [00:09<00:00,  4.24it/s, Completed]                 \n",
      "Generate report structure: 100%|██████████| 1/1 [00:05<00:00,  5.82s/it]\n",
      "Render HTML: 100%|██████████| 1/1 [00:00<00:00,  2.49it/s]\n",
      "Export report to file: 100%|██████████| 1/1 [00:00<00:00, 59.02it/s]\n"
     ]
    }
   ],
   "source": [
    "# ydata profile report\n",
    "profile = yp.ProfileReport(df)\n",
    "# profile.to_file(output_file='./outputs/03_ydata_titanic.html')\n",
    "profile.to_file(output_file=r\"C:\\Users\\Abdullah\\OneDrive\\Documents\\Desktop\\python_for_data_science\\pandas_tips_tricks\\output\\03_ydata_titanic.html\")\n",
    "\n"
   ]
  },
  {
   "cell_type": "code",
   "execution_count": 8,
   "id": "0730fb81",
   "metadata": {},
   "outputs": [],
   "source": [
    "# df_pop = pd.read_csv(\"./data/data.csv\")\n",
    "df_pop = pd.read_csv(r\"C:\\Users\\Abdullah\\OneDrive\\Documents\\Desktop\\python_for_data_science\\pandas_tips_tricks\\data\\data.csv\")\n"
   ]
  },
  {
   "cell_type": "code",
   "execution_count": null,
   "id": "71b189cc",
   "metadata": {},
   "outputs": [],
   "source": []
  },
  {
   "cell_type": "code",
   "execution_count": null,
   "id": "8b9c00d0",
   "metadata": {},
   "outputs": [],
   "source": []
  },
  {
   "cell_type": "code",
   "execution_count": null,
   "metadata": {},
   "outputs": [],
   "source": []
  },
  {
   "cell_type": "code",
   "execution_count": null,
   "id": "51111925",
   "metadata": {},
   "outputs": [],
   "source": []
  },
  {
   "cell_type": "code",
   "execution_count": null,
   "id": "71f20f5c",
   "metadata": {},
   "outputs": [],
   "source": []
  }
 ],
 "metadata": {
  "kernelspec": {
   "display_name": "ydata_profiling",
   "language": "python",
   "name": "python3"
  },
  "language_info": {
   "codemirror_mode": {
    "name": "ipython",
    "version": 3
   },
   "file_extension": ".py",
   "mimetype": "text/x-python",
   "name": "python",
   "nbconvert_exporter": "python",
   "pygments_lexer": "ipython3",
   "version": "3.10.0"
  }
 },
 "nbformat": 4,
 "nbformat_minor": 5
}
