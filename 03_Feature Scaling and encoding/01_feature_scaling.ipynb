{
 "cells": [
  {
   "cell_type": "markdown",
   "id": "aa2cb0ef",
   "metadata": {},
   "source": [
    "## Feature Scaling"
   ]
  },
  {
   "cell_type": "code",
   "execution_count": 1,
   "id": "c8133aff",
   "metadata": {},
   "outputs": [
    {
     "name": "stdout",
     "output_type": "stream",
     "text": [
      "Collecting scikit-learn\n",
      "  Downloading scikit_learn-1.7.2-cp313-cp313-win_amd64.whl.metadata (11 kB)\n",
      "Requirement already satisfied: numpy>=1.22.0 in c:\\users\\abdullah\\anaconda3\\envs\\python_eda\\lib\\site-packages (from scikit-learn) (2.3.3)\n",
      "Requirement already satisfied: scipy>=1.8.0 in c:\\users\\abdullah\\anaconda3\\envs\\python_eda\\lib\\site-packages (from scikit-learn) (1.16.2)\n",
      "Collecting joblib>=1.2.0 (from scikit-learn)\n",
      "  Using cached joblib-1.5.2-py3-none-any.whl.metadata (5.6 kB)\n",
      "Collecting threadpoolctl>=3.1.0 (from scikit-learn)\n",
      "  Using cached threadpoolctl-3.6.0-py3-none-any.whl.metadata (13 kB)\n",
      "Downloading scikit_learn-1.7.2-cp313-cp313-win_amd64.whl (8.7 MB)\n",
      "   ---------------------------------------- 0.0/8.7 MB ? eta -:--:--\n",
      "   - -------------------------------------- 0.3/8.7 MB ? eta -:--:--\n",
      "   - -------------------------------------- 0.3/8.7 MB ? eta -:--:--\n",
      "   -- ------------------------------------- 0.5/8.7 MB 732.3 kB/s eta 0:00:12\n",
      "   --- ------------------------------------ 0.8/8.7 MB 724.1 kB/s eta 0:00:11\n",
      "   --- ------------------------------------ 0.8/8.7 MB 724.1 kB/s eta 0:00:11\n",
      "   ---- ----------------------------------- 1.0/8.7 MB 652.1 kB/s eta 0:00:12\n",
      "   ---- ----------------------------------- 1.0/8.7 MB 652.1 kB/s eta 0:00:12\n",
      "   ---- ----------------------------------- 1.0/8.7 MB 652.1 kB/s eta 0:00:12\n",
      "   ---- ----------------------------------- 1.0/8.7 MB 652.1 kB/s eta 0:00:12\n",
      "   ---- ----------------------------------- 1.0/8.7 MB 652.1 kB/s eta 0:00:12\n",
      "   ---- ----------------------------------- 1.0/8.7 MB 652.1 kB/s eta 0:00:12\n",
      "   ---- ----------------------------------- 1.0/8.7 MB 652.1 kB/s eta 0:00:12\n",
      "   ---- ----------------------------------- 1.0/8.7 MB 652.1 kB/s eta 0:00:12\n",
      "   ---- ----------------------------------- 1.0/8.7 MB 652.1 kB/s eta 0:00:12\n",
      "   ---- ----------------------------------- 1.0/8.7 MB 652.1 kB/s eta 0:00:12\n",
      "   ---- ----------------------------------- 1.0/8.7 MB 652.1 kB/s eta 0:00:12\n",
      "   ------ --------------------------------- 1.3/8.7 MB 307.2 kB/s eta 0:00:25\n",
      "   ------ --------------------------------- 1.3/8.7 MB 307.2 kB/s eta 0:00:25\n",
      "   ------- -------------------------------- 1.6/8.7 MB 327.2 kB/s eta 0:00:22\n",
      "   ------- -------------------------------- 1.6/8.7 MB 327.2 kB/s eta 0:00:22\n",
      "   -------- ------------------------------- 1.8/8.7 MB 360.5 kB/s eta 0:00:20\n",
      "   -------- ------------------------------- 1.8/8.7 MB 360.5 kB/s eta 0:00:20\n",
      "   --------- ------------------------------ 2.1/8.7 MB 392.8 kB/s eta 0:00:17\n",
      "   --------- ------------------------------ 2.1/8.7 MB 392.8 kB/s eta 0:00:17\n",
      "   --------- ------------------------------ 2.1/8.7 MB 392.8 kB/s eta 0:00:17\n",
      "   --------- ------------------------------ 2.1/8.7 MB 392.8 kB/s eta 0:00:17\n",
      "   --------- ------------------------------ 2.1/8.7 MB 392.8 kB/s eta 0:00:17\n",
      "   ---------- ----------------------------- 2.4/8.7 MB 360.0 kB/s eta 0:00:18\n",
      "   ------------ --------------------------- 2.6/8.7 MB 385.0 kB/s eta 0:00:16\n",
      "   ------------ --------------------------- 2.6/8.7 MB 385.0 kB/s eta 0:00:16\n",
      "   ------------- -------------------------- 2.9/8.7 MB 403.4 kB/s eta 0:00:15\n",
      "   -------------- ------------------------- 3.1/8.7 MB 419.0 kB/s eta 0:00:14\n",
      "   -------------- ------------------------- 3.1/8.7 MB 419.0 kB/s eta 0:00:14\n",
      "   --------------- ------------------------ 3.4/8.7 MB 433.0 kB/s eta 0:00:13\n",
      "   --------------- ------------------------ 3.4/8.7 MB 433.0 kB/s eta 0:00:13\n",
      "   ---------------- ----------------------- 3.7/8.7 MB 445.7 kB/s eta 0:00:12\n",
      "   ------------------ --------------------- 3.9/8.7 MB 457.4 kB/s eta 0:00:11\n",
      "   ------------------ --------------------- 3.9/8.7 MB 457.4 kB/s eta 0:00:11\n",
      "   ------------------- -------------------- 4.2/8.7 MB 465.9 kB/s eta 0:00:10\n",
      "   ------------------- -------------------- 4.2/8.7 MB 465.9 kB/s eta 0:00:10\n",
      "   -------------------- ------------------- 4.5/8.7 MB 477.6 kB/s eta 0:00:09\n",
      "   -------------------- ------------------- 4.5/8.7 MB 477.6 kB/s eta 0:00:09\n",
      "   --------------------- ------------------ 4.7/8.7 MB 486.5 kB/s eta 0:00:09\n",
      "   ---------------------- ----------------- 5.0/8.7 MB 494.9 kB/s eta 0:00:08\n",
      "   ---------------------- ----------------- 5.0/8.7 MB 494.9 kB/s eta 0:00:08\n",
      "   ------------------------ --------------- 5.2/8.7 MB 502.5 kB/s eta 0:00:07\n",
      "   ------------------------ --------------- 5.2/8.7 MB 502.5 kB/s eta 0:00:07\n",
      "   ------------------------- -------------- 5.5/8.7 MB 507.6 kB/s eta 0:00:07\n",
      "   ------------------------- -------------- 5.5/8.7 MB 507.6 kB/s eta 0:00:07\n",
      "   -------------------------- ------------- 5.8/8.7 MB 514.0 kB/s eta 0:00:06\n",
      "   -------------------------- ------------- 5.8/8.7 MB 514.0 kB/s eta 0:00:06\n",
      "   --------------------------- ------------ 6.0/8.7 MB 520.1 kB/s eta 0:00:06\n",
      "   ---------------------------- ----------- 6.3/8.7 MB 527.4 kB/s eta 0:00:05\n",
      "   ---------------------------- ----------- 6.3/8.7 MB 527.4 kB/s eta 0:00:05\n",
      "   ------------------------------ --------- 6.6/8.7 MB 532.8 kB/s eta 0:00:05\n",
      "   ------------------------------ --------- 6.6/8.7 MB 532.8 kB/s eta 0:00:05\n",
      "   ------------------------------- -------- 6.8/8.7 MB 537.7 kB/s eta 0:00:04\n",
      "   ------------------------------- -------- 6.8/8.7 MB 537.7 kB/s eta 0:00:04\n",
      "   -------------------------------- ------- 7.1/8.7 MB 541.4 kB/s eta 0:00:03\n",
      "   -------------------------------- ------- 7.1/8.7 MB 541.4 kB/s eta 0:00:03\n",
      "   --------------------------------- ------ 7.3/8.7 MB 543.4 kB/s eta 0:00:03\n",
      "   ---------------------------------- ----- 7.6/8.7 MB 549.7 kB/s eta 0:00:03\n",
      "   ---------------------------------- ----- 7.6/8.7 MB 549.7 kB/s eta 0:00:03\n",
      "   ------------------------------------ --- 7.9/8.7 MB 555.1 kB/s eta 0:00:02\n",
      "   ------------------------------------ --- 7.9/8.7 MB 555.1 kB/s eta 0:00:02\n",
      "   ------------------------------------- -- 8.1/8.7 MB 558.4 kB/s eta 0:00:02\n",
      "   -------------------------------------- - 8.4/8.7 MB 561.8 kB/s eta 0:00:01\n",
      "   -------------------------------------- - 8.4/8.7 MB 561.8 kB/s eta 0:00:01\n",
      "   ---------------------------------------  8.7/8.7 MB 565.8 kB/s eta 0:00:01\n",
      "   ---------------------------------------  8.7/8.7 MB 565.8 kB/s eta 0:00:01\n",
      "   ---------------------------------------  8.7/8.7 MB 565.8 kB/s eta 0:00:01\n",
      "   ---------------------------------------  8.7/8.7 MB 565.8 kB/s eta 0:00:01\n",
      "   ---------------------------------------  8.7/8.7 MB 565.8 kB/s eta 0:00:01\n",
      "   ---------------------------------------- 8.7/8.7 MB 532.0 kB/s  0:00:16\n",
      "Downloading joblib-1.5.2-py3-none-any.whl (308 kB)\n",
      "Using cached threadpoolctl-3.6.0-py3-none-any.whl (18 kB)\n",
      "Installing collected packages: threadpoolctl, joblib, scikit-learn\n",
      "\n",
      "   ------------- -------------------------- 1/3 [joblib]\n",
      "   ------------- -------------------------- 1/3 [joblib]\n",
      "   ------------- -------------------------- 1/3 [joblib]\n",
      "   ------------- -------------------------- 1/3 [joblib]\n",
      "   ------------- -------------------------- 1/3 [joblib]\n",
      "   ------------- -------------------------- 1/3 [joblib]\n",
      "   ------------- -------------------------- 1/3 [joblib]\n",
      "   ------------- -------------------------- 1/3 [joblib]\n",
      "   ------------- -------------------------- 1/3 [joblib]\n",
      "   -------------------------- ------------- 2/3 [scikit-learn]\n",
      "   -------------------------- ------------- 2/3 [scikit-learn]\n",
      "   -------------------------- ------------- 2/3 [scikit-learn]\n",
      "   -------------------------- ------------- 2/3 [scikit-learn]\n",
      "   -------------------------- ------------- 2/3 [scikit-learn]\n",
      "   -------------------------- ------------- 2/3 [scikit-learn]\n",
      "   -------------------------- ------------- 2/3 [scikit-learn]\n",
      "   -------------------------- ------------- 2/3 [scikit-learn]\n",
      "   -------------------------- ------------- 2/3 [scikit-learn]\n",
      "   -------------------------- ------------- 2/3 [scikit-learn]\n",
      "   -------------------------- ------------- 2/3 [scikit-learn]\n",
      "   -------------------------- ------------- 2/3 [scikit-learn]\n",
      "   -------------------------- ------------- 2/3 [scikit-learn]\n",
      "   -------------------------- ------------- 2/3 [scikit-learn]\n",
      "   -------------------------- ------------- 2/3 [scikit-learn]\n",
      "   -------------------------- ------------- 2/3 [scikit-learn]\n",
      "   -------------------------- ------------- 2/3 [scikit-learn]\n",
      "   -------------------------- ------------- 2/3 [scikit-learn]\n",
      "   -------------------------- ------------- 2/3 [scikit-learn]\n",
      "   -------------------------- ------------- 2/3 [scikit-learn]\n",
      "   -------------------------- ------------- 2/3 [scikit-learn]\n",
      "   -------------------------- ------------- 2/3 [scikit-learn]\n",
      "   -------------------------- ------------- 2/3 [scikit-learn]\n",
      "   -------------------------- ------------- 2/3 [scikit-learn]\n",
      "   -------------------------- ------------- 2/3 [scikit-learn]\n",
      "   -------------------------- ------------- 2/3 [scikit-learn]\n",
      "   -------------------------- ------------- 2/3 [scikit-learn]\n",
      "   -------------------------- ------------- 2/3 [scikit-learn]\n",
      "   -------------------------- ------------- 2/3 [scikit-learn]\n",
      "   -------------------------- ------------- 2/3 [scikit-learn]\n",
      "   -------------------------- ------------- 2/3 [scikit-learn]\n",
      "   -------------------------- ------------- 2/3 [scikit-learn]\n",
      "   -------------------------- ------------- 2/3 [scikit-learn]\n",
      "   -------------------------- ------------- 2/3 [scikit-learn]\n",
      "   -------------------------- ------------- 2/3 [scikit-learn]\n",
      "   -------------------------- ------------- 2/3 [scikit-learn]\n",
      "   -------------------------- ------------- 2/3 [scikit-learn]\n",
      "   -------------------------- ------------- 2/3 [scikit-learn]\n",
      "   -------------------------- ------------- 2/3 [scikit-learn]\n",
      "   -------------------------- ------------- 2/3 [scikit-learn]\n",
      "   -------------------------- ------------- 2/3 [scikit-learn]\n",
      "   -------------------------- ------------- 2/3 [scikit-learn]\n",
      "   -------------------------- ------------- 2/3 [scikit-learn]\n",
      "   -------------------------- ------------- 2/3 [scikit-learn]\n",
      "   -------------------------- ------------- 2/3 [scikit-learn]\n",
      "   -------------------------- ------------- 2/3 [scikit-learn]\n",
      "   -------------------------- ------------- 2/3 [scikit-learn]\n",
      "   -------------------------- ------------- 2/3 [scikit-learn]\n",
      "   -------------------------- ------------- 2/3 [scikit-learn]\n",
      "   -------------------------- ------------- 2/3 [scikit-learn]\n",
      "   -------------------------- ------------- 2/3 [scikit-learn]\n",
      "   -------------------------- ------------- 2/3 [scikit-learn]\n",
      "   -------------------------- ------------- 2/3 [scikit-learn]\n",
      "   -------------------------- ------------- 2/3 [scikit-learn]\n",
      "   -------------------------- ------------- 2/3 [scikit-learn]\n",
      "   -------------------------- ------------- 2/3 [scikit-learn]\n",
      "   -------------------------- ------------- 2/3 [scikit-learn]\n",
      "   -------------------------- ------------- 2/3 [scikit-learn]\n",
      "   -------------------------- ------------- 2/3 [scikit-learn]\n",
      "   -------------------------- ------------- 2/3 [scikit-learn]\n",
      "   -------------------------- ------------- 2/3 [scikit-learn]\n",
      "   -------------------------- ------------- 2/3 [scikit-learn]\n",
      "   -------------------------- ------------- 2/3 [scikit-learn]\n",
      "   -------------------------- ------------- 2/3 [scikit-learn]\n",
      "   -------------------------- ------------- 2/3 [scikit-learn]\n",
      "   -------------------------- ------------- 2/3 [scikit-learn]\n",
      "   -------------------------- ------------- 2/3 [scikit-learn]\n",
      "   -------------------------- ------------- 2/3 [scikit-learn]\n",
      "   -------------------------- ------------- 2/3 [scikit-learn]\n",
      "   -------------------------- ------------- 2/3 [scikit-learn]\n",
      "   -------------------------- ------------- 2/3 [scikit-learn]\n",
      "   -------------------------- ------------- 2/3 [scikit-learn]\n",
      "   -------------------------- ------------- 2/3 [scikit-learn]\n",
      "   -------------------------- ------------- 2/3 [scikit-learn]\n",
      "   -------------------------- ------------- 2/3 [scikit-learn]\n",
      "   -------------------------- ------------- 2/3 [scikit-learn]\n",
      "   -------------------------- ------------- 2/3 [scikit-learn]\n",
      "   -------------------------- ------------- 2/3 [scikit-learn]\n",
      "   -------------------------- ------------- 2/3 [scikit-learn]\n",
      "   -------------------------- ------------- 2/3 [scikit-learn]\n",
      "   -------------------------- ------------- 2/3 [scikit-learn]\n",
      "   -------------------------- ------------- 2/3 [scikit-learn]\n",
      "   -------------------------- ------------- 2/3 [scikit-learn]\n",
      "   -------------------------- ------------- 2/3 [scikit-learn]\n",
      "   -------------------------- ------------- 2/3 [scikit-learn]\n",
      "   -------------------------- ------------- 2/3 [scikit-learn]\n",
      "   -------------------------- ------------- 2/3 [scikit-learn]\n",
      "   -------------------------- ------------- 2/3 [scikit-learn]\n",
      "   -------------------------- ------------- 2/3 [scikit-learn]\n",
      "   -------------------------- ------------- 2/3 [scikit-learn]\n",
      "   -------------------------- ------------- 2/3 [scikit-learn]\n",
      "   -------------------------- ------------- 2/3 [scikit-learn]\n",
      "   -------------------------- ------------- 2/3 [scikit-learn]\n",
      "   -------------------------- ------------- 2/3 [scikit-learn]\n",
      "   -------------------------- ------------- 2/3 [scikit-learn]\n",
      "   -------------------------- ------------- 2/3 [scikit-learn]\n",
      "   -------------------------- ------------- 2/3 [scikit-learn]\n",
      "   -------------------------- ------------- 2/3 [scikit-learn]\n",
      "   -------------------------- ------------- 2/3 [scikit-learn]\n",
      "   -------------------------- ------------- 2/3 [scikit-learn]\n",
      "   -------------------------- ------------- 2/3 [scikit-learn]\n",
      "   -------------------------- ------------- 2/3 [scikit-learn]\n",
      "   -------------------------- ------------- 2/3 [scikit-learn]\n",
      "   -------------------------- ------------- 2/3 [scikit-learn]\n",
      "   -------------------------- ------------- 2/3 [scikit-learn]\n",
      "   -------------------------- ------------- 2/3 [scikit-learn]\n",
      "   ---------------------------------------- 3/3 [scikit-learn]\n",
      "\n",
      "Successfully installed joblib-1.5.2 scikit-learn-1.7.2 threadpoolctl-3.6.0\n",
      "Note: you may need to restart the kernel to use updated packages.\n"
     ]
    }
   ],
   "source": [
    "pip install scikit-learn\n"
   ]
  },
  {
   "cell_type": "markdown",
   "id": "761e0431",
   "metadata": {},
   "source": [
    "## 1.Min Max Scaling"
   ]
  },
  {
   "cell_type": "code",
   "execution_count": null,
   "id": "b9617c22",
   "metadata": {},
   "outputs": [
    {
     "data": {
      "application/vnd.microsoft.datawrangler.viewer.v0+json": {
       "columns": [
        {
         "name": "index",
         "rawType": "int64",
         "type": "integer"
        },
        {
         "name": "value",
         "rawType": "int64",
         "type": "integer"
        }
       ],
       "ref": "b6986aa4-1ef0-478e-a5d1-da3f20d9321b",
       "rows": [
        [
         "0",
         "10"
        ],
        [
         "1",
         "20"
        ],
        [
         "2",
         "30"
        ],
        [
         "3",
         "40"
        ],
        [
         "4",
         "50"
        ]
       ],
       "shape": {
        "columns": 1,
        "rows": 5
       }
      },
      "text/html": [
       "<div>\n",
       "<style scoped>\n",
       "    .dataframe tbody tr th:only-of-type {\n",
       "        vertical-align: middle;\n",
       "    }\n",
       "\n",
       "    .dataframe tbody tr th {\n",
       "        vertical-align: top;\n",
       "    }\n",
       "\n",
       "    .dataframe thead th {\n",
       "        text-align: right;\n",
       "    }\n",
       "</style>\n",
       "<table border=\"1\" class=\"dataframe\">\n",
       "  <thead>\n",
       "    <tr style=\"text-align: right;\">\n",
       "      <th></th>\n",
       "      <th>value</th>\n",
       "    </tr>\n",
       "  </thead>\n",
       "  <tbody>\n",
       "    <tr>\n",
       "      <th>0</th>\n",
       "      <td>10</td>\n",
       "    </tr>\n",
       "    <tr>\n",
       "      <th>1</th>\n",
       "      <td>20</td>\n",
       "    </tr>\n",
       "    <tr>\n",
       "      <th>2</th>\n",
       "      <td>30</td>\n",
       "    </tr>\n",
       "    <tr>\n",
       "      <th>3</th>\n",
       "      <td>40</td>\n",
       "    </tr>\n",
       "    <tr>\n",
       "      <th>4</th>\n",
       "      <td>50</td>\n",
       "    </tr>\n",
       "  </tbody>\n",
       "</table>\n",
       "</div>"
      ],
      "text/plain": [
       "   value\n",
       "0     10\n",
       "1     20\n",
       "2     30\n",
       "3     40\n",
       "4     50"
      ]
     },
     "execution_count": 2,
     "metadata": {},
     "output_type": "execute_result"
    }
   ],
   "source": [
    "# min max scaling\n",
    "from sklearn.preprocessing import MinMaxScaler\n",
    "import pandas as pd\n",
    "# Sample dataset\n",
    "data={'awen_numbers':[10,20,30,40,50]}\n",
    "df=pd.DataFrame(data)\n",
    "df.head()\n"
   ]
  },
  {
   "cell_type": "code",
   "execution_count": 9,
   "id": "e7d662f7",
   "metadata": {},
   "outputs": [
    {
     "name": "stdout",
     "output_type": "stream",
     "text": [
      "   awen_numbers  awen_numbers_scaled\n",
      "0            10                 0.00\n",
      "1            20                 0.25\n",
      "2            30                 0.50\n",
      "3            40                 0.75\n",
      "4            50                 1.00\n"
     ]
    }
   ],
   "source": [
    "\n",
    "# Min-Max scaling\n",
    "scaler = MinMaxScaler()\n",
    "df['awen_numbers_scaled'] = scaler.fit_transform(df[['awen_numbers']])  \n",
    "\n",
    "# Check the result\n",
    "print(df)\n"
   ]
  },
  {
   "cell_type": "markdown",
   "id": "9a131713",
   "metadata": {},
   "source": [
    "## 2. Standard Scaling or zero-score normalization"
   ]
  },
  {
   "cell_type": "markdown",
   "id": "3d0ea51d",
   "metadata": {},
   "source": [
    "standard scaling code is same as min-max scaling, just use standarr keyword instead of min-max"
   ]
  },
  {
   "cell_type": "code",
   "execution_count": null,
   "id": "c7c43c32",
   "metadata": {},
   "outputs": [
    {
     "data": {
      "application/vnd.microsoft.datawrangler.viewer.v0+json": {
       "columns": [
        {
         "name": "index",
         "rawType": "int64",
         "type": "integer"
        },
        {
         "name": "awen_numbers",
         "rawType": "int64",
         "type": "integer"
        }
       ],
       "ref": "5babbf1c-ec92-4615-98ce-41e2ccd685e2",
       "rows": [
        [
         "0",
         "10"
        ],
        [
         "1",
         "20"
        ],
        [
         "2",
         "30"
        ],
        [
         "3",
         "40"
        ],
        [
         "4",
         "50"
        ]
       ],
       "shape": {
        "columns": 1,
        "rows": 5
       }
      },
      "text/html": [
       "<div>\n",
       "<style scoped>\n",
       "    .dataframe tbody tr th:only-of-type {\n",
       "        vertical-align: middle;\n",
       "    }\n",
       "\n",
       "    .dataframe tbody tr th {\n",
       "        vertical-align: top;\n",
       "    }\n",
       "\n",
       "    .dataframe thead th {\n",
       "        text-align: right;\n",
       "    }\n",
       "</style>\n",
       "<table border=\"1\" class=\"dataframe\">\n",
       "  <thead>\n",
       "    <tr style=\"text-align: right;\">\n",
       "      <th></th>\n",
       "      <th>awen_numbers</th>\n",
       "    </tr>\n",
       "  </thead>\n",
       "  <tbody>\n",
       "    <tr>\n",
       "      <th>0</th>\n",
       "      <td>10</td>\n",
       "    </tr>\n",
       "    <tr>\n",
       "      <th>1</th>\n",
       "      <td>20</td>\n",
       "    </tr>\n",
       "    <tr>\n",
       "      <th>2</th>\n",
       "      <td>30</td>\n",
       "    </tr>\n",
       "    <tr>\n",
       "      <th>3</th>\n",
       "      <td>40</td>\n",
       "    </tr>\n",
       "    <tr>\n",
       "      <th>4</th>\n",
       "      <td>50</td>\n",
       "    </tr>\n",
       "  </tbody>\n",
       "</table>\n",
       "</div>"
      ],
      "text/plain": [
       "   awen_numbers\n",
       "0            10\n",
       "1            20\n",
       "2            30\n",
       "3            40\n",
       "4            50"
      ]
     },
     "execution_count": 7,
     "metadata": {},
     "output_type": "execute_result"
    }
   ],
   "source": [
    "# standard scaling\n",
    "from sklearn.preprocessing import StandardScaler\n",
    "import pandas as pd\n",
    "# Sample dataset\n",
    "data={'awen_numbers':[10,20,30,40,50]}\n",
    "df=pd.DataFrame(data)\n",
    "df.head()\n"
   ]
  },
  {
   "cell_type": "code",
   "execution_count": 8,
   "metadata": {},
   "outputs": [
    {
     "name": "stdout",
     "output_type": "stream",
     "text": [
      "   awen_numbers  awen_numbers_scaled\n",
      "0            10            -1.414214\n",
      "1            20            -0.707107\n",
      "2            30             0.000000\n",
      "3            40             0.707107\n",
      "4            50             1.414214\n"
     ]
    }
   ],
   "source": [
    "\n",
    "# Standard scaling\n",
    "scaler = StandardScaler()\n",
    "df['awen_numbers_scaled'] = scaler.fit_transform(df[['awen_numbers']])  \n",
    "\n",
    "# Check the result\n",
    "print(df)\n"
   ]
  },
  {
   "cell_type": "markdown",
   "id": "a5d4c3cb",
   "metadata": {},
   "source": [
    "# 3. Robust Scaling"
   ]
  },
  {
   "cell_type": "code",
   "execution_count": 10,
   "id": "5d633701",
   "metadata": {},
   "outputs": [
    {
     "data": {
      "application/vnd.microsoft.datawrangler.viewer.v0+json": {
       "columns": [
        {
         "name": "index",
         "rawType": "int64",
         "type": "integer"
        },
        {
         "name": "awen_numbers",
         "rawType": "int64",
         "type": "integer"
        }
       ],
       "ref": "d259e82b-4fb1-4d23-8128-b74a7d4069ea",
       "rows": [
        [
         "0",
         "10"
        ],
        [
         "1",
         "20"
        ],
        [
         "2",
         "30"
        ],
        [
         "3",
         "40"
        ],
        [
         "4",
         "50"
        ]
       ],
       "shape": {
        "columns": 1,
        "rows": 5
       }
      },
      "text/html": [
       "<div>\n",
       "<style scoped>\n",
       "    .dataframe tbody tr th:only-of-type {\n",
       "        vertical-align: middle;\n",
       "    }\n",
       "\n",
       "    .dataframe tbody tr th {\n",
       "        vertical-align: top;\n",
       "    }\n",
       "\n",
       "    .dataframe thead th {\n",
       "        text-align: right;\n",
       "    }\n",
       "</style>\n",
       "<table border=\"1\" class=\"dataframe\">\n",
       "  <thead>\n",
       "    <tr style=\"text-align: right;\">\n",
       "      <th></th>\n",
       "      <th>awen_numbers</th>\n",
       "    </tr>\n",
       "  </thead>\n",
       "  <tbody>\n",
       "    <tr>\n",
       "      <th>0</th>\n",
       "      <td>10</td>\n",
       "    </tr>\n",
       "    <tr>\n",
       "      <th>1</th>\n",
       "      <td>20</td>\n",
       "    </tr>\n",
       "    <tr>\n",
       "      <th>2</th>\n",
       "      <td>30</td>\n",
       "    </tr>\n",
       "    <tr>\n",
       "      <th>3</th>\n",
       "      <td>40</td>\n",
       "    </tr>\n",
       "    <tr>\n",
       "      <th>4</th>\n",
       "      <td>50</td>\n",
       "    </tr>\n",
       "  </tbody>\n",
       "</table>\n",
       "</div>"
      ],
      "text/plain": [
       "   awen_numbers\n",
       "0            10\n",
       "1            20\n",
       "2            30\n",
       "3            40\n",
       "4            50"
      ]
     },
     "execution_count": 10,
     "metadata": {},
     "output_type": "execute_result"
    }
   ],
   "source": [
    "# standard scaling\n",
    "from sklearn.preprocessing import RobustScaler\n",
    "import pandas as pd\n",
    "# Sample dataset\n",
    "data={'awen_numbers':[10,20,30,40,50]}\n",
    "df=pd.DataFrame(data)\n",
    "df.head()\n"
   ]
  },
  {
   "cell_type": "code",
   "execution_count": 11,
   "metadata": {},
   "outputs": [
    {
     "name": "stdout",
     "output_type": "stream",
     "text": [
      "   awen_numbers  awen_numbers_scaled\n",
      "0            10                 -1.0\n",
      "1            20                 -0.5\n",
      "2            30                  0.0\n",
      "3            40                  0.5\n",
      "4            50                  1.0\n"
     ]
    }
   ],
   "source": [
    "\n",
    "# robust scaling\n",
    "scaler = RobustScaler()\n",
    "df['awen_numbers_scaled'] = scaler.fit_transform(df[['awen_numbers']])  \n",
    "\n",
    "# Check the result\n",
    "print(df)\n"
   ]
  },
  {
   "cell_type": "markdown",
   "id": "779b9325",
   "metadata": {},
   "source": [
    "## 4. Logrithmic Scaling"
   ]
  },
  {
   "cell_type": "code",
   "execution_count": 14,
   "id": "4e4e7d8b",
   "metadata": {},
   "outputs": [
    {
     "data": {
      "application/vnd.microsoft.datawrangler.viewer.v0+json": {
       "columns": [
        {
         "name": "index",
         "rawType": "int64",
         "type": "integer"
        },
        {
         "name": "awen_numbers",
         "rawType": "int64",
         "type": "integer"
        },
        {
         "name": "awen_numbers_log",
         "rawType": "float64",
         "type": "float"
        },
        {
         "name": "awen_numbers_log2",
         "rawType": "float64",
         "type": "float"
        },
        {
         "name": "awen_numbers_log10",
         "rawType": "float64",
         "type": "float"
        }
       ],
       "ref": "9b7b7e1b-bf1c-4f39-bf8c-b075a6b66e86",
       "rows": [
        [
         "0",
         "1000",
         "6.907755278982137",
         "9.965784284662087",
         "3.0"
        ],
        [
         "1",
         "20000",
         "9.903487552536127",
         "14.287712379549449",
         "4.301029995663981"
        ],
        [
         "2",
         "30000",
         "10.308952660644293",
         "14.872674880270605",
         "4.477121254719663"
        ],
        [
         "3",
         "1000000",
         "13.815510557964274",
         "19.931568569324174",
         "6.0"
        ],
        [
         "4",
         "50000",
         "10.819778284410283",
         "15.609640474436812",
         "4.698970004336019"
        ]
       ],
       "shape": {
        "columns": 4,
        "rows": 5
       }
      },
      "text/html": [
       "<div>\n",
       "<style scoped>\n",
       "    .dataframe tbody tr th:only-of-type {\n",
       "        vertical-align: middle;\n",
       "    }\n",
       "\n",
       "    .dataframe tbody tr th {\n",
       "        vertical-align: top;\n",
       "    }\n",
       "\n",
       "    .dataframe thead th {\n",
       "        text-align: right;\n",
       "    }\n",
       "</style>\n",
       "<table border=\"1\" class=\"dataframe\">\n",
       "  <thead>\n",
       "    <tr style=\"text-align: right;\">\n",
       "      <th></th>\n",
       "      <th>awen_numbers</th>\n",
       "      <th>awen_numbers_log</th>\n",
       "      <th>awen_numbers_log2</th>\n",
       "      <th>awen_numbers_log10</th>\n",
       "    </tr>\n",
       "  </thead>\n",
       "  <tbody>\n",
       "    <tr>\n",
       "      <th>0</th>\n",
       "      <td>1000</td>\n",
       "      <td>6.907755</td>\n",
       "      <td>9.965784</td>\n",
       "      <td>3.000000</td>\n",
       "    </tr>\n",
       "    <tr>\n",
       "      <th>1</th>\n",
       "      <td>20000</td>\n",
       "      <td>9.903488</td>\n",
       "      <td>14.287712</td>\n",
       "      <td>4.301030</td>\n",
       "    </tr>\n",
       "    <tr>\n",
       "      <th>2</th>\n",
       "      <td>30000</td>\n",
       "      <td>10.308953</td>\n",
       "      <td>14.872675</td>\n",
       "      <td>4.477121</td>\n",
       "    </tr>\n",
       "    <tr>\n",
       "      <th>3</th>\n",
       "      <td>1000000</td>\n",
       "      <td>13.815511</td>\n",
       "      <td>19.931569</td>\n",
       "      <td>6.000000</td>\n",
       "    </tr>\n",
       "    <tr>\n",
       "      <th>4</th>\n",
       "      <td>50000</td>\n",
       "      <td>10.819778</td>\n",
       "      <td>15.609640</td>\n",
       "      <td>4.698970</td>\n",
       "    </tr>\n",
       "  </tbody>\n",
       "</table>\n",
       "</div>"
      ],
      "text/plain": [
       "   awen_numbers  awen_numbers_log  awen_numbers_log2  awen_numbers_log10\n",
       "0          1000          6.907755           9.965784            3.000000\n",
       "1         20000          9.903488          14.287712            4.301030\n",
       "2         30000         10.308953          14.872675            4.477121\n",
       "3       1000000         13.815511          19.931569            6.000000\n",
       "4         50000         10.819778          15.609640            4.698970"
      ]
     },
     "execution_count": 14,
     "metadata": {},
     "output_type": "execute_result"
    }
   ],
   "source": [
    "import numpy as np\n",
    "import pandas as pd\n",
    "# Sample dataset with skewed distribution\n",
    "data={'awen_numbers':[1000,20000,30000,1000000,50000]}\n",
    "df=pd.DataFrame(data)\n",
    "\n",
    "# Logarithmic scaling\n",
    "df['awen_numbers_log'] = np.log(df['awen_numbers'])\n",
    "df['awen_numbers_log2'] = np.log2(df['awen_numbers'])\n",
    "df['awen_numbers_log10'] = np.log10(df['awen_numbers'])\n",
    "# Check the result\n",
    "df.head()\n"
   ]
  },
  {
   "cell_type": "code",
   "execution_count": 16,
   "id": "f74eb32d",
   "metadata": {},
   "outputs": [
    {
     "data": {
      "text/plain": [
       "<Axes: xlabel='awen_numbers'>"
      ]
     },
     "execution_count": 16,
     "metadata": {},
     "output_type": "execute_result"
    },
    {
     "data": {
      "image/png": "[encoded data removed]",
      "text/plain": [
       "<Figure size 640x480 with 1 Axes>"
      ]
     },
     "metadata": {},
     "output_type": "display_data"
    }
   ],
   "source": [
    "import seaborn as sns\n",
    "# this boxplot show the outlier in the original data\n",
    "sns.boxplot(x=df['awen_numbers'])"
   ]
  },
  {
   "cell_type": "code",
   "execution_count": null,
   "id": "57f46f0c",
   "metadata": {},
   "outputs": [],
   "source": []
  },
  {
   "cell_type": "code",
   "execution_count": null,
   "id": "a2160be4",
   "metadata": {},
   "outputs": [],
   "source": []
  }
 ],
 "metadata": {
  "kernelspec": {
   "display_name": "python_eda",
   "language": "python",
   "name": "python3"
  },
  "language_info": {
   "codemirror_mode": {
    "name": "ipython",
    "version": 3
   },
   "file_extension": ".py",
   "mimetype": "text/x-python",
   "name": "python",
   "nbconvert_exporter": "python",
   "pygments_lexer": "ipython3",
   "version": "3.13.7"
  }
 },
 "nbformat": 4,
 "nbformat_minor": 5
}
