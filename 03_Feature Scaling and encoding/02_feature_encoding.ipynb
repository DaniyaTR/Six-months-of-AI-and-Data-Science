{
 "cells": [
  {
   "cell_type": "markdown",
   "id": "4e76d1e2",
   "metadata": {},
   "source": [
    "## Feature Encoding"
   ]
  },
  {
   "cell_type": "markdown",
   "id": "d290c4fc",
   "metadata": {},
   "source": [
    "## 1. One Hot Encoding"
   ]
  },
  {
   "cell_type": "code",
   "execution_count": 4,
   "id": "be2c51de",
   "metadata": {},
   "outputs": [
    {
     "name": "stdout",
     "output_type": "stream",
     "text": [
      "   Color\n",
      "0    red\n",
      "1  green\n",
      "2   blue\n",
      "3    red\n",
      "   Color_blue  Color_green  Color_red\n",
      "0       False        False       True\n",
      "1       False         True      False\n",
      "2        True        False      False\n",
      "3       False        False       True\n"
     ]
    }
   ],
   "source": [
    "import pandas as pd\n",
    "# sample data\n",
    "data={'Color': ['red', 'green', 'blue', 'red']}\n",
    "df=pd.DataFrame(data)\n",
    "print(df)\n",
    "#one-hot encoding\n",
    "one_hot_encoded_df=pd.get_dummies(df, columns=['Color'])\n",
    "print(one_hot_encoded_df)"
   ]
  },
  {
   "cell_type": "markdown",
   "id": "7174bce9",
   "metadata": {},
   "source": [
    "## 2.Label Encoding"
   ]
  },
  {
   "cell_type": "code",
   "execution_count": null,
   "id": "b2f177d2",
   "metadata": {},
   "outputs": [
    {
     "name": "stdout",
     "output_type": "stream",
     "text": [
      "  Animals\n",
      "0     dog\n",
      "1     cat\n",
      "2    bird\n",
      "3     dog\n",
      "4    bird\n",
      "  Animals  Animals_Encoded\n",
      "0     dog                2\n",
      "1     cat                1\n",
      "2    bird                0\n",
      "3     dog                2\n",
      "4    bird                0\n"
     ]
    }
   ],
   "source": [
    "from sklearn.preprocessing import LabelEncoder\n",
    "#sample data\n",
    "data={'Animals': ['dog', 'cat', 'bird', 'dog','bird']}\n",
    "df=pd.DataFrame(data)\n",
    "print(df)\n",
    "#label encoding\n",
    "label_encoder=LabelEncoder()\n",
    "df['Animals_Encoded']=label_encoder.fit_transform(df['Animals'])\n",
    "print(df)"
   ]
  },
  {
   "cell_type": "markdown",
   "id": "1b62fecb",
   "metadata": {},
   "source": [
    "## 3.Ordinal Encoding"
   ]
  },
  {
   "cell_type": "code",
   "execution_count": 8,
   "id": "1df153ca",
   "metadata": {},
   "outputs": [
    {
     "name": "stdout",
     "output_type": "stream",
     "text": [
      "     Size\n",
      "0   small\n",
      "1  medium\n",
      "2   large\n",
      "3  medium\n",
      "4   small\n",
      "     Size  Size_Encoded\n",
      "0   small           0.0\n",
      "1  medium           1.0\n",
      "2   large           2.0\n",
      "3  medium           1.0\n",
      "4   small           0.0\n"
     ]
    }
   ],
   "source": [
    "# Ordinal Encoding\n",
    "from sklearn.preprocessing import OrdinalEncoder\n",
    "# sample data\n",
    "data={'Size': ['small', 'medium', 'large', 'medium', 'small']}\n",
    "df=pd.DataFrame(data)\n",
    "print(df)\n",
    "# ordinal encoding\n",
    "ordinal_encoder=OrdinalEncoder(categories=[['small', 'medium', 'large']])\n",
    "df['Size_Encoded']=ordinal_encoder.fit_transform(df[['Size']])\n",
    "print(df)"
   ]
  },
  {
   "cell_type": "code",
   "execution_count": null,
   "id": "41d6f1b2",
   "metadata": {},
   "outputs": [],
   "source": []
  }
 ],
 "metadata": {
  "kernelspec": {
   "display_name": "python_eda",
   "language": "python",
   "name": "python3"
  },
  "language_info": {
   "codemirror_mode": {
    "name": "ipython",
    "version": 3
   },
   "file_extension": ".py",
   "mimetype": "text/x-python",
   "name": "python",
   "nbconvert_exporter": "python",
   "pygments_lexer": "ipython3",
   "version": "3.13.7"
  }
 },
 "nbformat": 4,
 "nbformat_minor": 5
}
